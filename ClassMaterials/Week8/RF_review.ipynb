{
 "cells": [
  {
   "cell_type": "code",
   "execution_count": 1,
   "id": "9309cb5b",
   "metadata": {},
   "outputs": [],
   "source": [
    "import pandas as pd \n",
    "import numpy as np "
   ]
  },
  {
   "cell_type": "code",
   "execution_count": 8,
   "id": "2ecc482b",
   "metadata": {},
   "outputs": [
    {
     "name": "stdout",
     "output_type": "stream",
     "text": [
      "/Users/siandavies/Desktop\n"
     ]
    }
   ],
   "source": [
    "cd Desktop/"
   ]
  },
  {
   "cell_type": "code",
   "execution_count": 9,
   "id": "cc6addd6",
   "metadata": {},
   "outputs": [
    {
     "name": "stdout",
     "output_type": "stream",
     "text": [
      "categorical.csv   numerical.csv     numerical.csv.zip target.csv\r\n"
     ]
    }
   ],
   "source": [
    "!ls"
   ]
  },
  {
   "cell_type": "code",
   "execution_count": 10,
   "id": "d1406ab9",
   "metadata": {},
   "outputs": [],
   "source": [
    "numerical=pd.read_csv('numerical.csv')"
   ]
  },
  {
   "cell_type": "code",
   "execution_count": 11,
   "id": "5ed17854",
   "metadata": {},
   "outputs": [],
   "source": [
    "categorical=pd.read_csv('categorical.csv')"
   ]
  },
  {
   "cell_type": "code",
   "execution_count": 12,
   "id": "b81bd8ee",
   "metadata": {},
   "outputs": [],
   "source": [
    "target=pd.read_csv('target.csv')"
   ]
  },
  {
   "cell_type": "code",
   "execution_count": 13,
   "id": "d2d4eb2f",
   "metadata": {},
   "outputs": [
    {
     "name": "stdout",
     "output_type": "stream",
     "text": [
      "<class 'pandas.core.frame.DataFrame'>\n",
      "RangeIndex: 95412 entries, 0 to 95411\n",
      "Columns: 315 entries, TCODE to CLUSTER2\n",
      "dtypes: float64(9), int64(306)\n",
      "memory usage: 229.3 MB\n"
     ]
    }
   ],
   "source": [
    "numerical.info()"
   ]
  },
  {
   "cell_type": "code",
   "execution_count": 14,
   "id": "120f8a33",
   "metadata": {},
   "outputs": [
    {
     "name": "stdout",
     "output_type": "stream",
     "text": [
      "<class 'pandas.core.frame.DataFrame'>\n",
      "RangeIndex: 95412 entries, 0 to 95411\n",
      "Data columns (total 22 columns):\n",
      " #   Column        Non-Null Count  Dtype \n",
      "---  ------        --------------  ----- \n",
      " 0   STATE         95412 non-null  object\n",
      " 1   CLUSTER       95412 non-null  int64 \n",
      " 2   HOMEOWNR      95412 non-null  object\n",
      " 3   GENDER        95412 non-null  object\n",
      " 4   DATASRCE      95412 non-null  int64 \n",
      " 5   RFA_2R        95412 non-null  object\n",
      " 6   RFA_2A        95412 non-null  object\n",
      " 7   GEOCODE2      95412 non-null  object\n",
      " 8   DOMAIN_A      95412 non-null  object\n",
      " 9   DOMAIN_B      95412 non-null  int64 \n",
      " 10  ODATEW_YR     95412 non-null  int64 \n",
      " 11  ODATEW_MM     95412 non-null  int64 \n",
      " 12  DOB_YR        95412 non-null  int64 \n",
      " 13  DOB_MM        95412 non-null  int64 \n",
      " 14  MINRDATE_YR   95412 non-null  int64 \n",
      " 15  MINRDATE_MM   95412 non-null  int64 \n",
      " 16  MAXRDATE_YR   95412 non-null  int64 \n",
      " 17  MAXRDATE_MM   95412 non-null  int64 \n",
      " 18  LASTDATE_YR   95412 non-null  int64 \n",
      " 19  LASTDATE_MM   95412 non-null  int64 \n",
      " 20  FIRSTDATE_YR  95412 non-null  int64 \n",
      " 21  FIRSTDATE_MM  95412 non-null  int64 \n",
      "dtypes: int64(15), object(7)\n",
      "memory usage: 16.0+ MB\n"
     ]
    }
   ],
   "source": [
    "categorical.info()"
   ]
  },
  {
   "cell_type": "code",
   "execution_count": 15,
   "id": "3bd16ea6",
   "metadata": {},
   "outputs": [
    {
     "name": "stdout",
     "output_type": "stream",
     "text": [
      "<class 'pandas.core.frame.DataFrame'>\n",
      "RangeIndex: 95412 entries, 0 to 95411\n",
      "Data columns (total 2 columns):\n",
      " #   Column    Non-Null Count  Dtype  \n",
      "---  ------    --------------  -----  \n",
      " 0   TARGET_B  95412 non-null  int64  \n",
      " 1   TARGET_D  95412 non-null  float64\n",
      "dtypes: float64(1), int64(1)\n",
      "memory usage: 1.5 MB\n"
     ]
    }
   ],
   "source": [
    "target.info()"
   ]
  },
  {
   "cell_type": "code",
   "execution_count": 16,
   "id": "1f00fcd1",
   "metadata": {},
   "outputs": [],
   "source": [
    "data=pd.concat([numerical,categorical,target],axis=1)"
   ]
  },
  {
   "cell_type": "code",
   "execution_count": 17,
   "id": "fcf7d583",
   "metadata": {},
   "outputs": [
    {
     "name": "stdout",
     "output_type": "stream",
     "text": [
      "<class 'pandas.core.frame.DataFrame'>\n",
      "RangeIndex: 95412 entries, 0 to 95411\n",
      "Columns: 339 entries, TCODE to TARGET_D\n",
      "dtypes: float64(10), int64(322), object(7)\n",
      "memory usage: 246.8+ MB\n"
     ]
    }
   ],
   "source": [
    "data.info()"
   ]
  },
  {
   "cell_type": "code",
   "execution_count": 18,
   "id": "33bd6b56",
   "metadata": {},
   "outputs": [
    {
     "data": {
      "text/plain": [
       "0    90569\n",
       "1     4843\n",
       "Name: TARGET_B, dtype: int64"
      ]
     },
     "execution_count": 18,
     "metadata": {},
     "output_type": "execute_result"
    }
   ],
   "source": [
    "data['TARGET_B'].value_counts()"
   ]
  },
  {
   "cell_type": "markdown",
   "id": "2671bcf6",
   "metadata": {},
   "source": [
    "# imbalance management - downsampling "
   ]
  },
  {
   "cell_type": "code",
   "execution_count": 19,
   "id": "9ffc889a",
   "metadata": {},
   "outputs": [],
   "source": [
    "category_0=data[data['TARGET_B']==0].sample(len(data[data['TARGET_B']==1]))"
   ]
  },
  {
   "cell_type": "code",
   "execution_count": 20,
   "id": "92559c53",
   "metadata": {},
   "outputs": [],
   "source": [
    "category_1=data[data['TARGET_B']==1]"
   ]
  },
  {
   "cell_type": "code",
   "execution_count": 21,
   "id": "e795e11d",
   "metadata": {},
   "outputs": [],
   "source": [
    "data=pd.concat([category_0,category_1],axis=0)"
   ]
  },
  {
   "cell_type": "code",
   "execution_count": 22,
   "id": "d519d122",
   "metadata": {},
   "outputs": [],
   "source": [
    "data=data.reset_index(drop=True)"
   ]
  },
  {
   "cell_type": "code",
   "execution_count": 23,
   "id": "db44a3bb",
   "metadata": {},
   "outputs": [
    {
     "name": "stdout",
     "output_type": "stream",
     "text": [
      "<class 'pandas.core.frame.DataFrame'>\n",
      "RangeIndex: 9686 entries, 0 to 9685\n",
      "Columns: 339 entries, TCODE to TARGET_D\n",
      "dtypes: float64(10), int64(322), object(7)\n",
      "memory usage: 25.1+ MB\n"
     ]
    }
   ],
   "source": [
    "data.info()"
   ]
  },
  {
   "cell_type": "code",
   "execution_count": 24,
   "id": "d6dd118d",
   "metadata": {},
   "outputs": [
    {
     "data": {
      "text/html": [
       "<div>\n",
       "<style scoped>\n",
       "    .dataframe tbody tr th:only-of-type {\n",
       "        vertical-align: middle;\n",
       "    }\n",
       "\n",
       "    .dataframe tbody tr th {\n",
       "        vertical-align: top;\n",
       "    }\n",
       "\n",
       "    .dataframe thead th {\n",
       "        text-align: right;\n",
       "    }\n",
       "</style>\n",
       "<table border=\"1\" class=\"dataframe\">\n",
       "  <thead>\n",
       "    <tr style=\"text-align: right;\">\n",
       "      <th></th>\n",
       "      <th>TCODE</th>\n",
       "      <th>AGE</th>\n",
       "      <th>INCOME</th>\n",
       "      <th>WEALTH1</th>\n",
       "      <th>HIT</th>\n",
       "      <th>MALEMILI</th>\n",
       "      <th>MALEVET</th>\n",
       "      <th>VIETVETS</th>\n",
       "      <th>WWIIVETS</th>\n",
       "      <th>LOCALGOV</th>\n",
       "      <th>...</th>\n",
       "      <th>MINRDATE_YR</th>\n",
       "      <th>MINRDATE_MM</th>\n",
       "      <th>MAXRDATE_YR</th>\n",
       "      <th>MAXRDATE_MM</th>\n",
       "      <th>LASTDATE_YR</th>\n",
       "      <th>LASTDATE_MM</th>\n",
       "      <th>FIRSTDATE_YR</th>\n",
       "      <th>FIRSTDATE_MM</th>\n",
       "      <th>TARGET_B</th>\n",
       "      <th>TARGET_D</th>\n",
       "    </tr>\n",
       "  </thead>\n",
       "  <tbody>\n",
       "    <tr>\n",
       "      <th>0</th>\n",
       "      <td>2</td>\n",
       "      <td>61.611649</td>\n",
       "      <td>1</td>\n",
       "      <td>1</td>\n",
       "      <td>4</td>\n",
       "      <td>0</td>\n",
       "      <td>28</td>\n",
       "      <td>23</td>\n",
       "      <td>41</td>\n",
       "      <td>12</td>\n",
       "      <td>...</td>\n",
       "      <td>89</td>\n",
       "      <td>3</td>\n",
       "      <td>94</td>\n",
       "      <td>9</td>\n",
       "      <td>96</td>\n",
       "      <td>1</td>\n",
       "      <td>86</td>\n",
       "      <td>11</td>\n",
       "      <td>0</td>\n",
       "      <td>0.0</td>\n",
       "    </tr>\n",
       "    <tr>\n",
       "      <th>1</th>\n",
       "      <td>0</td>\n",
       "      <td>61.611649</td>\n",
       "      <td>7</td>\n",
       "      <td>9</td>\n",
       "      <td>0</td>\n",
       "      <td>0</td>\n",
       "      <td>24</td>\n",
       "      <td>26</td>\n",
       "      <td>24</td>\n",
       "      <td>3</td>\n",
       "      <td>...</td>\n",
       "      <td>95</td>\n",
       "      <td>12</td>\n",
       "      <td>95</td>\n",
       "      <td>11</td>\n",
       "      <td>95</td>\n",
       "      <td>12</td>\n",
       "      <td>94</td>\n",
       "      <td>11</td>\n",
       "      <td>0</td>\n",
       "      <td>0.0</td>\n",
       "    </tr>\n",
       "    <tr>\n",
       "      <th>2</th>\n",
       "      <td>1</td>\n",
       "      <td>76.000000</td>\n",
       "      <td>2</td>\n",
       "      <td>7</td>\n",
       "      <td>1</td>\n",
       "      <td>0</td>\n",
       "      <td>27</td>\n",
       "      <td>27</td>\n",
       "      <td>34</td>\n",
       "      <td>4</td>\n",
       "      <td>...</td>\n",
       "      <td>87</td>\n",
       "      <td>3</td>\n",
       "      <td>95</td>\n",
       "      <td>2</td>\n",
       "      <td>95</td>\n",
       "      <td>9</td>\n",
       "      <td>86</td>\n",
       "      <td>9</td>\n",
       "      <td>0</td>\n",
       "      <td>0.0</td>\n",
       "    </tr>\n",
       "    <tr>\n",
       "      <th>3</th>\n",
       "      <td>3</td>\n",
       "      <td>88.000000</td>\n",
       "      <td>5</td>\n",
       "      <td>9</td>\n",
       "      <td>0</td>\n",
       "      <td>0</td>\n",
       "      <td>41</td>\n",
       "      <td>6</td>\n",
       "      <td>54</td>\n",
       "      <td>7</td>\n",
       "      <td>...</td>\n",
       "      <td>90</td>\n",
       "      <td>11</td>\n",
       "      <td>95</td>\n",
       "      <td>12</td>\n",
       "      <td>95</td>\n",
       "      <td>12</td>\n",
       "      <td>88</td>\n",
       "      <td>9</td>\n",
       "      <td>0</td>\n",
       "      <td>0.0</td>\n",
       "    </tr>\n",
       "    <tr>\n",
       "      <th>4</th>\n",
       "      <td>0</td>\n",
       "      <td>60.000000</td>\n",
       "      <td>1</td>\n",
       "      <td>9</td>\n",
       "      <td>0</td>\n",
       "      <td>0</td>\n",
       "      <td>26</td>\n",
       "      <td>28</td>\n",
       "      <td>45</td>\n",
       "      <td>11</td>\n",
       "      <td>...</td>\n",
       "      <td>92</td>\n",
       "      <td>11</td>\n",
       "      <td>94</td>\n",
       "      <td>11</td>\n",
       "      <td>95</td>\n",
       "      <td>10</td>\n",
       "      <td>92</td>\n",
       "      <td>3</td>\n",
       "      <td>0</td>\n",
       "      <td>0.0</td>\n",
       "    </tr>\n",
       "  </tbody>\n",
       "</table>\n",
       "<p>5 rows × 339 columns</p>\n",
       "</div>"
      ],
      "text/plain": [
       "   TCODE        AGE  INCOME  WEALTH1  HIT  MALEMILI  MALEVET  VIETVETS  \\\n",
       "0      2  61.611649       1        1    4         0       28        23   \n",
       "1      0  61.611649       7        9    0         0       24        26   \n",
       "2      1  76.000000       2        7    1         0       27        27   \n",
       "3      3  88.000000       5        9    0         0       41         6   \n",
       "4      0  60.000000       1        9    0         0       26        28   \n",
       "\n",
       "   WWIIVETS  LOCALGOV  ...  MINRDATE_YR  MINRDATE_MM  MAXRDATE_YR  \\\n",
       "0        41        12  ...           89            3           94   \n",
       "1        24         3  ...           95           12           95   \n",
       "2        34         4  ...           87            3           95   \n",
       "3        54         7  ...           90           11           95   \n",
       "4        45        11  ...           92           11           94   \n",
       "\n",
       "   MAXRDATE_MM  LASTDATE_YR  LASTDATE_MM  FIRSTDATE_YR  FIRSTDATE_MM  \\\n",
       "0            9           96            1            86            11   \n",
       "1           11           95           12            94            11   \n",
       "2            2           95            9            86             9   \n",
       "3           12           95           12            88             9   \n",
       "4           11           95           10            92             3   \n",
       "\n",
       "   TARGET_B  TARGET_D  \n",
       "0         0       0.0  \n",
       "1         0       0.0  \n",
       "2         0       0.0  \n",
       "3         0       0.0  \n",
       "4         0       0.0  \n",
       "\n",
       "[5 rows x 339 columns]"
      ]
     },
     "execution_count": 24,
     "metadata": {},
     "output_type": "execute_result"
    }
   ],
   "source": [
    "data.head()"
   ]
  },
  {
   "cell_type": "code",
   "execution_count": 25,
   "id": "2861af5e",
   "metadata": {},
   "outputs": [],
   "source": [
    "#set dependent variable \n",
    "y=data['TARGET_B']\n",
    "X=data.drop(['TARGET_B'],axis=1)"
   ]
  },
  {
   "cell_type": "code",
   "execution_count": 26,
   "id": "0f33b104",
   "metadata": {},
   "outputs": [],
   "source": [
    "X_num=X.select_dtypes(np.number)\n",
    "X_cat=X.select_dtypes(object)"
   ]
  },
  {
   "cell_type": "code",
   "execution_count": 27,
   "id": "cdfddab0",
   "metadata": {},
   "outputs": [
    {
     "data": {
      "text/html": [
       "<div>\n",
       "<style scoped>\n",
       "    .dataframe tbody tr th:only-of-type {\n",
       "        vertical-align: middle;\n",
       "    }\n",
       "\n",
       "    .dataframe tbody tr th {\n",
       "        vertical-align: top;\n",
       "    }\n",
       "\n",
       "    .dataframe thead th {\n",
       "        text-align: right;\n",
       "    }\n",
       "</style>\n",
       "<table border=\"1\" class=\"dataframe\">\n",
       "  <thead>\n",
       "    <tr style=\"text-align: right;\">\n",
       "      <th></th>\n",
       "      <th>STATE</th>\n",
       "      <th>HOMEOWNR</th>\n",
       "      <th>GENDER</th>\n",
       "      <th>RFA_2R</th>\n",
       "      <th>RFA_2A</th>\n",
       "      <th>GEOCODE2</th>\n",
       "      <th>DOMAIN_A</th>\n",
       "    </tr>\n",
       "  </thead>\n",
       "  <tbody>\n",
       "    <tr>\n",
       "      <th>0</th>\n",
       "      <td>other</td>\n",
       "      <td>U</td>\n",
       "      <td>F</td>\n",
       "      <td>L</td>\n",
       "      <td>E</td>\n",
       "      <td>D</td>\n",
       "      <td>R</td>\n",
       "    </tr>\n",
       "    <tr>\n",
       "      <th>1</th>\n",
       "      <td>NC</td>\n",
       "      <td>U</td>\n",
       "      <td>F</td>\n",
       "      <td>L</td>\n",
       "      <td>F</td>\n",
       "      <td>C</td>\n",
       "      <td>R</td>\n",
       "    </tr>\n",
       "    <tr>\n",
       "      <th>2</th>\n",
       "      <td>other</td>\n",
       "      <td>H</td>\n",
       "      <td>M</td>\n",
       "      <td>L</td>\n",
       "      <td>E</td>\n",
       "      <td>C</td>\n",
       "      <td>T</td>\n",
       "    </tr>\n",
       "    <tr>\n",
       "      <th>3</th>\n",
       "      <td>FL</td>\n",
       "      <td>H</td>\n",
       "      <td>F</td>\n",
       "      <td>L</td>\n",
       "      <td>F</td>\n",
       "      <td>B</td>\n",
       "      <td>C</td>\n",
       "    </tr>\n",
       "    <tr>\n",
       "      <th>4</th>\n",
       "      <td>FL</td>\n",
       "      <td>U</td>\n",
       "      <td>M</td>\n",
       "      <td>L</td>\n",
       "      <td>E</td>\n",
       "      <td>A</td>\n",
       "      <td>U</td>\n",
       "    </tr>\n",
       "  </tbody>\n",
       "</table>\n",
       "</div>"
      ],
      "text/plain": [
       "   STATE HOMEOWNR GENDER RFA_2R RFA_2A GEOCODE2 DOMAIN_A\n",
       "0  other        U      F      L      E        D        R\n",
       "1     NC        U      F      L      F        C        R\n",
       "2  other        H      M      L      E        C        T\n",
       "3     FL        H      F      L      F        B        C\n",
       "4     FL        U      M      L      E        A        U"
      ]
     },
     "execution_count": 27,
     "metadata": {},
     "output_type": "execute_result"
    }
   ],
   "source": [
    "X_cat.head()"
   ]
  },
  {
   "cell_type": "code",
   "execution_count": 28,
   "id": "9b592858",
   "metadata": {},
   "outputs": [
    {
     "data": {
      "text/plain": [
       "(9686, 7)"
      ]
     },
     "execution_count": 28,
     "metadata": {},
     "output_type": "execute_result"
    }
   ],
   "source": [
    "X_cat.shape"
   ]
  },
  {
   "cell_type": "code",
   "execution_count": 29,
   "id": "5af56fed",
   "metadata": {},
   "outputs": [],
   "source": [
    "from sklearn.preprocessing import OneHotEncoder"
   ]
  },
  {
   "cell_type": "code",
   "execution_count": 30,
   "id": "b595c17f",
   "metadata": {},
   "outputs": [],
   "source": [
    "encoder=OneHotEncoder(drop='first').fit(X_cat)"
   ]
  },
  {
   "cell_type": "code",
   "execution_count": 31,
   "id": "6cde7f94",
   "metadata": {},
   "outputs": [],
   "source": [
    "X_cat_en=encoder.transform(X_cat).toarray() # lost categorical feature names"
   ]
  },
  {
   "cell_type": "code",
   "execution_count": 42,
   "id": "0c6a9319",
   "metadata": {},
   "outputs": [],
   "source": [
    "X_cat_en_cols=encoder.get_feature_names_out(X_cat.columns)# restore feature names \n",
    "#older version 'get_feature_names'"
   ]
  },
  {
   "cell_type": "code",
   "execution_count": 43,
   "id": "0c95a89f",
   "metadata": {},
   "outputs": [
    {
     "data": {
      "text/plain": [
       "array(['STATE_FL', 'STATE_GA', 'STATE_IL', 'STATE_IN', 'STATE_MI',\n",
       "       'STATE_MO', 'STATE_NC', 'STATE_TX', 'STATE_WA', 'STATE_WI',\n",
       "       'STATE_other', 'HOMEOWNR_U', 'GENDER_M', 'GENDER_other',\n",
       "       'RFA_2A_E', 'RFA_2A_F', 'RFA_2A_G', 'GEOCODE2_B', 'GEOCODE2_C',\n",
       "       'GEOCODE2_D', 'DOMAIN_A_R', 'DOMAIN_A_S', 'DOMAIN_A_T',\n",
       "       'DOMAIN_A_U'], dtype=object)"
      ]
     },
     "execution_count": 43,
     "metadata": {},
     "output_type": "execute_result"
    }
   ],
   "source": [
    "X_cat_en_cols"
   ]
  },
  {
   "cell_type": "code",
   "execution_count": 44,
   "id": "4bb14c14",
   "metadata": {},
   "outputs": [],
   "source": [
    "X_cat_en_df=pd.DataFrame(X_cat_en, columns=X_cat_en_cols) # restored categorical names "
   ]
  },
  {
   "cell_type": "code",
   "execution_count": 45,
   "id": "09f51348",
   "metadata": {},
   "outputs": [],
   "source": [
    "X_full=pd.concat([X_cat_en_df,X_num],axis=1)# retained feature names "
   ]
  },
  {
   "cell_type": "code",
   "execution_count": 47,
   "id": "89f7a631",
   "metadata": {},
   "outputs": [
    {
     "data": {
      "text/html": [
       "<div>\n",
       "<style scoped>\n",
       "    .dataframe tbody tr th:only-of-type {\n",
       "        vertical-align: middle;\n",
       "    }\n",
       "\n",
       "    .dataframe tbody tr th {\n",
       "        vertical-align: top;\n",
       "    }\n",
       "\n",
       "    .dataframe thead th {\n",
       "        text-align: right;\n",
       "    }\n",
       "</style>\n",
       "<table border=\"1\" class=\"dataframe\">\n",
       "  <thead>\n",
       "    <tr style=\"text-align: right;\">\n",
       "      <th></th>\n",
       "      <th>STATE_FL</th>\n",
       "      <th>STATE_GA</th>\n",
       "      <th>STATE_IL</th>\n",
       "      <th>STATE_IN</th>\n",
       "      <th>STATE_MI</th>\n",
       "      <th>STATE_MO</th>\n",
       "      <th>STATE_NC</th>\n",
       "      <th>STATE_TX</th>\n",
       "      <th>STATE_WA</th>\n",
       "      <th>STATE_WI</th>\n",
       "      <th>...</th>\n",
       "      <th>DOB_MM</th>\n",
       "      <th>MINRDATE_YR</th>\n",
       "      <th>MINRDATE_MM</th>\n",
       "      <th>MAXRDATE_YR</th>\n",
       "      <th>MAXRDATE_MM</th>\n",
       "      <th>LASTDATE_YR</th>\n",
       "      <th>LASTDATE_MM</th>\n",
       "      <th>FIRSTDATE_YR</th>\n",
       "      <th>FIRSTDATE_MM</th>\n",
       "      <th>TARGET_D</th>\n",
       "    </tr>\n",
       "  </thead>\n",
       "  <tbody>\n",
       "    <tr>\n",
       "      <th>0</th>\n",
       "      <td>0.0</td>\n",
       "      <td>0.0</td>\n",
       "      <td>0.0</td>\n",
       "      <td>0.0</td>\n",
       "      <td>0.0</td>\n",
       "      <td>0.0</td>\n",
       "      <td>0.0</td>\n",
       "      <td>0.0</td>\n",
       "      <td>0.0</td>\n",
       "      <td>0.0</td>\n",
       "      <td>...</td>\n",
       "      <td>2</td>\n",
       "      <td>89</td>\n",
       "      <td>3</td>\n",
       "      <td>94</td>\n",
       "      <td>9</td>\n",
       "      <td>96</td>\n",
       "      <td>1</td>\n",
       "      <td>86</td>\n",
       "      <td>11</td>\n",
       "      <td>0.0</td>\n",
       "    </tr>\n",
       "  </tbody>\n",
       "</table>\n",
       "<p>1 rows × 355 columns</p>\n",
       "</div>"
      ],
      "text/plain": [
       "   STATE_FL  STATE_GA  STATE_IL  STATE_IN  STATE_MI  STATE_MO  STATE_NC  \\\n",
       "0       0.0       0.0       0.0       0.0       0.0       0.0       0.0   \n",
       "\n",
       "   STATE_TX  STATE_WA  STATE_WI  ...  DOB_MM  MINRDATE_YR  MINRDATE_MM  \\\n",
       "0       0.0       0.0       0.0  ...       2           89            3   \n",
       "\n",
       "   MAXRDATE_YR  MAXRDATE_MM  LASTDATE_YR  LASTDATE_MM  FIRSTDATE_YR  \\\n",
       "0           94            9           96            1            86   \n",
       "\n",
       "   FIRSTDATE_MM  TARGET_D  \n",
       "0            11       0.0  \n",
       "\n",
       "[1 rows x 355 columns]"
      ]
     },
     "execution_count": 47,
     "metadata": {},
     "output_type": "execute_result"
    }
   ],
   "source": [
    "X_full.head(1)"
   ]
  },
  {
   "cell_type": "code",
   "execution_count": 34,
   "id": "0a1db205",
   "metadata": {},
   "outputs": [],
   "source": [
    "from sklearn.model_selection import train_test_split "
   ]
  },
  {
   "cell_type": "code",
   "execution_count": 48,
   "id": "91ddd066",
   "metadata": {},
   "outputs": [],
   "source": [
    "X_train,X_test,y_train,y_test=train_test_split(X_full,y,test_size=0.3,random_state=40)"
   ]
  },
  {
   "cell_type": "code",
   "execution_count": 36,
   "id": "de7905cc",
   "metadata": {},
   "outputs": [],
   "source": [
    "from sklearn.ensemble import RandomForestClassifier"
   ]
  },
  {
   "cell_type": "code",
   "execution_count": 49,
   "id": "44fa52a3",
   "metadata": {},
   "outputs": [
    {
     "name": "stdout",
     "output_type": "stream",
     "text": [
      "0.9390915347556779\n"
     ]
    }
   ],
   "source": [
    "clf=RandomForestClassifier(n_estimators=200,max_depth=2, random_state=40)\n",
    "clf.fit(X_train,y_train)\n",
    "print(clf.score(X_test,y_test))"
   ]
  },
  {
   "cell_type": "code",
   "execution_count": 38,
   "id": "f52ecccf",
   "metadata": {},
   "outputs": [
    {
     "data": {
      "text/plain": [
       "(9686, 355)"
      ]
     },
     "execution_count": 38,
     "metadata": {},
     "output_type": "execute_result"
    }
   ],
   "source": [
    "X_full.shape"
   ]
  },
  {
   "cell_type": "markdown",
   "id": "13737d66",
   "metadata": {},
   "source": [
    "# with ensemble you should use more than one scoring metric "
   ]
  },
  {
   "cell_type": "code",
   "execution_count": 39,
   "id": "94744978",
   "metadata": {},
   "outputs": [],
   "source": [
    "from sklearn.model_selection import cross_val_score"
   ]
  },
  {
   "cell_type": "code",
   "execution_count": 50,
   "id": "fea40d26",
   "metadata": {},
   "outputs": [],
   "source": [
    "cross_val_scores=cross_val_score(clf,X_train,y_train)"
   ]
  },
  {
   "cell_type": "code",
   "execution_count": 51,
   "id": "7404b10a",
   "metadata": {},
   "outputs": [
    {
     "data": {
      "text/plain": [
       "array([0.92551622, 0.94616519, 0.94616519, 0.96238938, 0.94985251])"
      ]
     },
     "execution_count": 51,
     "metadata": {},
     "output_type": "execute_result"
    }
   ],
   "source": [
    "cross_val_scores  # there are more parameters we havent set up "
   ]
  },
  {
   "cell_type": "code",
   "execution_count": null,
   "id": "fbbe2c97",
   "metadata": {},
   "outputs": [],
   "source": []
  },
  {
   "cell_type": "markdown",
   "id": "e439ee84",
   "metadata": {},
   "source": [
    "# Feature selection / scoring with RF "
   ]
  },
  {
   "cell_type": "code",
   "execution_count": 53,
   "id": "7a65e6de",
   "metadata": {},
   "outputs": [],
   "source": [
    "feature_importances=clf.feature_importances_"
   ]
  },
  {
   "cell_type": "code",
   "execution_count": 54,
   "id": "4b6d71e9",
   "metadata": {},
   "outputs": [],
   "source": [
    "feature_names = X_full.columns"
   ]
  },
  {
   "cell_type": "code",
   "execution_count": 55,
   "id": "85f6ede5",
   "metadata": {},
   "outputs": [],
   "source": [
    "forest_importances = pd.Series(feature_importances, index=feature_names)"
   ]
  },
  {
   "cell_type": "code",
   "execution_count": 56,
   "id": "d592adc9",
   "metadata": {},
   "outputs": [
    {
     "data": {
      "text/plain": [
       "TARGET_D    0.113624\n",
       "LASTGIFT    0.069838\n",
       "AVGGIFT     0.063221\n",
       "MINRAMNT    0.049156\n",
       "RFA_2F      0.046409\n",
       "              ...   \n",
       "ETH7        0.000000\n",
       "HHD10       0.000000\n",
       "OCC12       0.000000\n",
       "OCC13       0.000000\n",
       "STATE_FL    0.000000\n",
       "Length: 355, dtype: float64"
      ]
     },
     "execution_count": 56,
     "metadata": {},
     "output_type": "execute_result"
    }
   ],
   "source": [
    "forest_importances.sort_values(ascending=False)"
   ]
  },
  {
   "cell_type": "code",
   "execution_count": 59,
   "id": "1a83a20a",
   "metadata": {},
   "outputs": [
    {
     "name": "stdout",
     "output_type": "stream",
     "text": [
      "TARGET_D        0.113624\n",
      "LASTGIFT        0.069838\n",
      "AVGGIFT         0.063221\n",
      "MINRAMNT        0.049156\n",
      "RFA_2F          0.046409\n",
      "CARDGIFT        0.045724\n",
      "MAXRAMNT        0.043340\n",
      "RFA_2A_G        0.037687\n",
      "NGIFTALL        0.035077\n",
      "LASTDATE_YR     0.024061\n",
      "ETH1            0.016853\n",
      "NUMPRM12        0.014083\n",
      "ETH2            0.012402\n",
      "CARDPM12        0.012286\n",
      "IC1             0.011538\n",
      "ETHC5           0.010882\n",
      "CARDPROM        0.010339\n",
      "HHD9            0.009998\n",
      "HV1             0.009808\n",
      "IC5             0.009195\n",
      "HVP3            0.008409\n",
      "ETHC4           0.008329\n",
      "HV2             0.008087\n",
      "DMA             0.007960\n",
      "FIRSTDATE_YR    0.007531\n",
      "HVP4            0.006598\n",
      "IC3             0.006586\n",
      "IC4             0.006490\n",
      "HVP5            0.006198\n",
      "HHN2            0.006136\n",
      "HC21            0.005967\n",
      "HHAS3           0.005881\n",
      "AGE901          0.005864\n",
      "CONTROLN        0.005599\n",
      "AGEC6           0.005511\n",
      "CLUSTER2        0.005439\n",
      "NUMPROM         0.005437\n",
      "RAMNTALL        0.005209\n",
      "ETHC2           0.005046\n",
      "IC2             0.005004\n",
      "VOC1            0.004945\n",
      "HVP6            0.004903\n",
      "EC2             0.004836\n",
      "ODATEW_YR       0.004598\n",
      "HC20            0.004537\n",
      "RFA_2A_E        0.004418\n",
      "IC6             0.004261\n",
      "MARR4           0.004172\n",
      "EC5             0.004080\n",
      "EIC13           0.004071\n",
      "EC3             0.003893\n",
      "RFA_2A_F        0.003776\n",
      "LFC7            0.003634\n",
      "RP3             0.003593\n",
      "OCC8            0.003516\n",
      "MAXRDATE_YR     0.003436\n",
      "IC13            0.003394\n",
      "HHAS2           0.003365\n",
      "HHAGE3          0.003278\n",
      "IC15            0.003174\n",
      "AGEC1           0.003172\n",
      "RP2             0.003060\n",
      "HC6             0.003024\n",
      "HHN5            0.002963\n",
      "EC4             0.002896\n",
      "HHD7            0.002872\n",
      "IC10            0.002860\n",
      "HHAS4           0.002732\n",
      "EIC15           0.002713\n",
      "IC19            0.002609\n",
      "ETH4            0.002486\n",
      "VC3             0.002441\n",
      "HC18            0.002416\n",
      "TIMELAG         0.002401\n",
      "AGE             0.002343\n",
      "EC1             0.002325\n",
      "TPE7            0.002322\n",
      "OCC10           0.002247\n",
      "OCC2            0.002213\n",
      "VC4             0.002140\n",
      "HHP1            0.002081\n",
      "LFC2            0.002046\n",
      "LASTDATE_MM     0.002040\n",
      "EIC7            0.002019\n",
      "POBC1           0.002003\n",
      "VIETVETS        0.001947\n",
      "HHD3            0.001887\n",
      "EC8             0.001855\n",
      "DOB_YR          0.001842\n",
      "POBC2           0.001823\n",
      "INCOME          0.001794\n",
      "DW7             0.001767\n",
      "HUPA1           0.001766\n",
      "EC7             0.001743\n",
      "AGE905          0.001733\n",
      "IC18            0.001721\n",
      "ANC4            0.001704\n",
      "ANC8            0.001680\n",
      "ETHC1           0.001598\n",
      "TPE1            0.001551\n",
      "POP90C5         0.001525\n",
      "HV4             0.001513\n",
      "LSC3            0.001510\n",
      "FIRSTDATE_MM    0.001505\n",
      "AFC5            0.001455\n",
      "LFC4            0.001442\n",
      "POP902          0.001440\n",
      "WWIIVETS        0.001425\n",
      "ETHC3           0.001416\n",
      "LFC8            0.001403\n",
      "OCC5            0.001396\n",
      "EIC2            0.001314\n",
      "TPE8            0.001311\n",
      "EC6             0.001305\n",
      "IC22            0.001240\n",
      "DW6             0.001232\n",
      "RP1             0.001221\n",
      "POP90C4         0.001190\n",
      "RP4             0.001188\n",
      "AGEC2           0.001125\n",
      "MARR3           0.001108\n",
      "HHP2            0.001096\n",
      "ANC6            0.001047\n",
      "IC9             0.000970\n",
      "HU3             0.000941\n",
      "HHAS1           0.000925\n",
      "IC20            0.000918\n",
      "HC11            0.000901\n",
      "OEDC2           0.000855\n",
      "LFC10           0.000847\n",
      "MARR1           0.000846\n",
      "HHN4            0.000843\n",
      "RHP1            0.000825\n",
      "HHN3            0.000817\n",
      "TPE9            0.000814\n",
      "TPE13           0.000804\n",
      "LFC6            0.000782\n",
      "HVP1            0.000777\n",
      "HHN6            0.000777\n",
      "ANC2            0.000708\n",
      "AGE902          0.000704\n",
      "MALEVET         0.000703\n",
      "IC14            0.000701\n",
      "POP901          0.000700\n",
      "DW5             0.000689\n",
      "OCC1            0.000687\n",
      "HHD12           0.000675\n",
      "DW8             0.000674\n",
      "EIC9            0.000666\n",
      "HUPA5           0.000665\n",
      "OCC11           0.000661\n",
      "VOC3            0.000644\n",
      "EIC4            0.000640\n",
      "CLUSTER         0.000632\n",
      "LSC2            0.000611\n",
      "HU2             0.000583\n",
      "TPE11           0.000582\n",
      "ANC7            0.000531\n",
      "TPE2            0.000445\n",
      "IC21            0.000423\n",
      "AGEC5           0.000367\n",
      "AGE904          0.000362\n",
      "ANC10           0.000326\n",
      "HU1             0.000058\n",
      "LSC4            0.000000\n",
      "HC3             0.000000\n",
      "HC5             0.000000\n",
      "HC4             0.000000\n",
      "ANC11           0.000000\n",
      "ANC12           0.000000\n",
      "ANC13           0.000000\n",
      "ANC14           0.000000\n",
      "ANC15           0.000000\n",
      "MARR2           0.000000\n",
      "FEDGOV          0.000000\n",
      "STATEGOV        0.000000\n",
      "HC2             0.000000\n",
      "HC1             0.000000\n",
      "VOC2            0.000000\n",
      "ANC9            0.000000\n",
      "LOCALGOV        0.000000\n",
      "LSC1            0.000000\n",
      "HUPA6           0.000000\n",
      "DW9             0.000000\n",
      "AFC4            0.000000\n",
      "HHD1            0.000000\n",
      "SEC1            0.000000\n",
      "SEC2            0.000000\n",
      "SEC3            0.000000\n",
      "SEC4            0.000000\n",
      "SEC5            0.000000\n",
      "AFC1            0.000000\n",
      "AFC2            0.000000\n",
      "AFC3            0.000000\n",
      "HU5             0.000000\n",
      "HC7             0.000000\n",
      "AFC6            0.000000\n",
      "VC1             0.000000\n",
      "VC2             0.000000\n",
      "HU4             0.000000\n",
      "WEALTH2         0.000000\n",
      "ANC1            0.000000\n",
      "ANC3            0.000000\n",
      "ANC5            0.000000\n",
      "HV3             0.000000\n",
      "DW4             0.000000\n",
      "DW3             0.000000\n",
      "HC8             0.000000\n",
      "GEOCODE2_C      0.000000\n",
      "GENDER_other    0.000000\n",
      "GENDER_M        0.000000\n",
      "HOMEOWNR_U      0.000000\n",
      "STATE_other     0.000000\n",
      "HPHONE_D        0.000000\n",
      "STATE_WI        0.000000\n",
      "STATE_WA        0.000000\n",
      "DATASRCE        0.000000\n",
      "DOMAIN_B        0.000000\n",
      "STATE_TX        0.000000\n",
      "ODATEW_MM       0.000000\n",
      "STATE_NC        0.000000\n",
      "DOB_MM          0.000000\n",
      "MINRDATE_YR     0.000000\n",
      "MINRDATE_MM     0.000000\n",
      "STATE_MO        0.000000\n",
      "MAXRDATE_MM     0.000000\n",
      "STATE_MI        0.000000\n",
      "STATE_IN        0.000000\n",
      "STATE_IL        0.000000\n",
      "DW1             0.000000\n",
      "GEOCODE2_B      0.000000\n",
      "GEOCODE2_D      0.000000\n",
      "HC9             0.000000\n",
      "DOMAIN_A_R      0.000000\n",
      "HC10            0.000000\n",
      "HHD2            0.000000\n",
      "HC12            0.000000\n",
      "HC13            0.000000\n",
      "HC14            0.000000\n",
      "HC15            0.000000\n",
      "HC16            0.000000\n",
      "HC17            0.000000\n",
      "DW2             0.000000\n",
      "HC19            0.000000\n",
      "MALEMILI        0.000000\n",
      "HIT             0.000000\n",
      "MHUC1           0.000000\n",
      "MHUC2           0.000000\n",
      "AC1             0.000000\n",
      "AC2             0.000000\n",
      "WEALTH1         0.000000\n",
      "TCODE           0.000000\n",
      "DOMAIN_A_U      0.000000\n",
      "DOMAIN_A_T      0.000000\n",
      "DOMAIN_A_S      0.000000\n",
      "POP903          0.000000\n",
      "POP90C3         0.000000\n",
      "POP90C1         0.000000\n",
      "ETH16           0.000000\n",
      "HUR2            0.000000\n",
      "IC23            0.000000\n",
      "HUR1            0.000000\n",
      "ETH15           0.000000\n",
      "ETH14           0.000000\n",
      "ETH13           0.000000\n",
      "MC1             0.000000\n",
      "MC2             0.000000\n",
      "MC3             0.000000\n",
      "CHILC1          0.000000\n",
      "TPE3            0.000000\n",
      "TPE4            0.000000\n",
      "TPE5            0.000000\n",
      "TPE6            0.000000\n",
      "ETH12           0.000000\n",
      "CHILC2          0.000000\n",
      "CHILC3          0.000000\n",
      "PEC1            0.000000\n",
      "PEC2            0.000000\n",
      "TPE10           0.000000\n",
      "TPE12           0.000000\n",
      "RHP2            0.000000\n",
      "STATE_GA        0.000000\n",
      "POP90C2         0.000000\n",
      "IC17            0.000000\n",
      "HUPA4           0.000000\n",
      "AGEC4           0.000000\n",
      "HUPA3           0.000000\n",
      "MSA             0.000000\n",
      "ADI             0.000000\n",
      "AGEC3           0.000000\n",
      "HUPA2           0.000000\n",
      "CHIL3           0.000000\n",
      "CHIL2           0.000000\n",
      "CHIL1           0.000000\n",
      "AGE907          0.000000\n",
      "AGE906          0.000000\n",
      "IC7             0.000000\n",
      "IC8             0.000000\n",
      "AGEC7           0.000000\n",
      "IC11            0.000000\n",
      "IC12            0.000000\n",
      "AGE903          0.000000\n",
      "RHP4            0.000000\n",
      "RHP3            0.000000\n",
      "IC16            0.000000\n",
      "CHILC4          0.000000\n",
      "LFC1            0.000000\n",
      "ETH11           0.000000\n",
      "LFC3            0.000000\n",
      "EIC6            0.000000\n",
      "ETH6            0.000000\n",
      "EIC8            0.000000\n",
      "HHD8            0.000000\n",
      "EIC10           0.000000\n",
      "EIC11           0.000000\n",
      "EIC12           0.000000\n",
      "ETH5            0.000000\n",
      "EIC14           0.000000\n",
      "ETH3            0.000000\n",
      "EIC16           0.000000\n",
      "OEDC1           0.000000\n",
      "HHD6            0.000000\n",
      "OEDC3           0.000000\n",
      "OEDC4           0.000000\n",
      "OEDC5           0.000000\n",
      "OEDC6           0.000000\n",
      "OEDC7           0.000000\n",
      "HHD5            0.000000\n",
      "HHD4            0.000000\n",
      "HUPA7           0.000000\n",
      "EIC5            0.000000\n",
      "EIC3            0.000000\n",
      "HHN1            0.000000\n",
      "OCC3            0.000000\n",
      "HVP2            0.000000\n",
      "LFC5            0.000000\n",
      "ETHC6           0.000000\n",
      "ETH10           0.000000\n",
      "CHILC5          0.000000\n",
      "LFC9            0.000000\n",
      "HHAGE1          0.000000\n",
      "HHAGE2          0.000000\n",
      "ETH9            0.000000\n",
      "OCC4            0.000000\n",
      "EIC1            0.000000\n",
      "HHD11           0.000000\n",
      "OCC6            0.000000\n",
      "OCC7            0.000000\n",
      "ETH8            0.000000\n",
      "OCC9            0.000000\n",
      "ETH7            0.000000\n",
      "HHD10           0.000000\n",
      "OCC12           0.000000\n",
      "OCC13           0.000000\n",
      "STATE_FL        0.000000\n",
      "dtype: float64\n"
     ]
    }
   ],
   "source": [
    "with pd.option_context('display.max_rows', None) :\n",
    "    print(forest_importances.sort_values(ascending=False))"
   ]
  },
  {
   "cell_type": "code",
   "execution_count": null,
   "id": "0e74817d",
   "metadata": {},
   "outputs": [],
   "source": []
  },
  {
   "cell_type": "code",
   "execution_count": null,
   "id": "4a8d03ad",
   "metadata": {},
   "outputs": [],
   "source": []
  },
  {
   "cell_type": "code",
   "execution_count": null,
   "id": "22d32bca",
   "metadata": {},
   "outputs": [],
   "source": []
  },
  {
   "cell_type": "code",
   "execution_count": null,
   "id": "72b212da",
   "metadata": {},
   "outputs": [],
   "source": []
  },
  {
   "cell_type": "code",
   "execution_count": null,
   "id": "eeb1bcd0",
   "metadata": {},
   "outputs": [],
   "source": []
  },
  {
   "cell_type": "code",
   "execution_count": null,
   "id": "0d697c4a",
   "metadata": {},
   "outputs": [],
   "source": [
    "X_cat_en_cols=encoder.get_feature_names_out(X_cat.columns)"
   ]
  },
  {
   "cell_type": "code",
   "execution_count": null,
   "id": "79a5a9ef",
   "metadata": {},
   "outputs": [],
   "source": [
    "X_cat_en_df=pd.DataFrame(X_cat_en, columns=X_cat_en_cols)"
   ]
  },
  {
   "cell_type": "code",
   "execution_count": null,
   "id": "2dc761fe",
   "metadata": {},
   "outputs": [],
   "source": [
    "X_cat_en_df.head(1)"
   ]
  },
  {
   "cell_type": "code",
   "execution_count": null,
   "id": "dd301f24",
   "metadata": {},
   "outputs": [],
   "source": [
    "X_full=pd.concat([X_cat_en_df,X_num],axis=1)"
   ]
  },
  {
   "cell_type": "code",
   "execution_count": null,
   "id": "97cb3863",
   "metadata": {},
   "outputs": [],
   "source": [
    "X_full.head(1)"
   ]
  },
  {
   "cell_type": "code",
   "execution_count": null,
   "id": "f510db4f",
   "metadata": {},
   "outputs": [],
   "source": [
    "clf.feature_importances_"
   ]
  },
  {
   "cell_type": "code",
   "execution_count": null,
   "id": "cae3756a",
   "metadata": {},
   "outputs": [],
   "source": [
    "feature_names = X_full.columns"
   ]
  },
  {
   "cell_type": "code",
   "execution_count": null,
   "id": "9722d332",
   "metadata": {},
   "outputs": [],
   "source": [
    "feature_names"
   ]
  },
  {
   "cell_type": "code",
   "execution_count": null,
   "id": "f39b00db",
   "metadata": {},
   "outputs": [],
   "source": [
    "import time\n",
    "start_time = time.time()\n",
    "importances = clf.feature_importances_\n",
    "std = np.std([clf.feature_importances_ for tree in clf.estimators_], axis=0)\n",
    "elapsed_time = time.time() - start_time"
   ]
  },
  {
   "cell_type": "code",
   "execution_count": null,
   "id": "4e8ca23d",
   "metadata": {},
   "outputs": [],
   "source": [
    "print(f\"Elapsed time to compute the importances: {elapsed_time:.3f} seconds\")"
   ]
  },
  {
   "cell_type": "code",
   "execution_count": null,
   "id": "2d76eb83",
   "metadata": {},
   "outputs": [],
   "source": [
    "with pd.option_context('display.max_rows', None, 'display.max_columns', None) :\n",
    "    print(forest_importances.sort_values(ascending=False))"
   ]
  },
  {
   "cell_type": "code",
   "execution_count": null,
   "id": "a62b6810",
   "metadata": {},
   "outputs": [],
   "source": [
    "import matplotlib.pyplot as plt "
   ]
  },
  {
   "cell_type": "code",
   "execution_count": null,
   "id": "3353080f",
   "metadata": {},
   "outputs": [],
   "source": [
    "forest_importances = pd.Series(importances, index=feature_names)\n",
    "\n",
    "fig, ax = plt.subplots(figsize=(50,30))\n",
    "forest_importances.plot.bar(yerr=std, ax=ax)\n",
    "ax.set_title(\"Feature importances using MDI\")\n",
    "ax.set_ylabel(\"Mean decrease in impurity\")\n",
    "fig.tight_layout()"
   ]
  },
  {
   "cell_type": "code",
   "execution_count": null,
   "id": "0ec16c16",
   "metadata": {},
   "outputs": [],
   "source": []
  }
 ],
 "metadata": {
  "kernelspec": {
   "display_name": "Python 3 (ipykernel)",
   "language": "python",
   "name": "python3"
  },
  "language_info": {
   "codemirror_mode": {
    "name": "ipython",
    "version": 3
   },
   "file_extension": ".py",
   "mimetype": "text/x-python",
   "name": "python",
   "nbconvert_exporter": "python",
   "pygments_lexer": "ipython3",
   "version": "3.9.7"
  },
  "toc": {
   "base_numbering": 1,
   "nav_menu": {},
   "number_sections": true,
   "sideBar": true,
   "skip_h1_title": false,
   "title_cell": "Table of Contents",
   "title_sidebar": "Contents",
   "toc_cell": false,
   "toc_position": {},
   "toc_section_display": true,
   "toc_window_display": false
  },
  "varInspector": {
   "cols": {
    "lenName": 16,
    "lenType": 16,
    "lenVar": 40
   },
   "kernels_config": {
    "python": {
     "delete_cmd_postfix": "",
     "delete_cmd_prefix": "del ",
     "library": "var_list.py",
     "varRefreshCmd": "print(var_dic_list())"
    },
    "r": {
     "delete_cmd_postfix": ") ",
     "delete_cmd_prefix": "rm(",
     "library": "var_list.r",
     "varRefreshCmd": "cat(var_dic_list()) "
    }
   },
   "types_to_exclude": [
    "module",
    "function",
    "builtin_function_or_method",
    "instance",
    "_Feature"
   ],
   "window_display": false
  }
 },
 "nbformat": 4,
 "nbformat_minor": 5
}
